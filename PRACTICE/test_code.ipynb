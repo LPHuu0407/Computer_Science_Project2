{
 "cells": [
  {
   "cell_type": "code",
   "execution_count": 3,
   "metadata": {},
   "outputs": [
    {
     "name": "stderr",
     "output_type": "stream",
     "text": [
      "[nltk_data] Downloading package punkt to\n",
      "[nltk_data]     C:\\Users\\lphuu\\AppData\\Roaming\\nltk_data...\n",
      "[nltk_data]   Package punkt is already up-to-date!\n",
      "[nltk_data] Downloading package stopwords to\n",
      "[nltk_data]     C:\\Users\\lphuu\\AppData\\Roaming\\nltk_data...\n",
      "[nltk_data]   Package stopwords is already up-to-date!\n"
     ]
    }
   ],
   "source": [
    "import os\n",
    "import random\n",
    "import string\n",
    "import nltk\n",
    "nltk.download('punkt')\n",
    "nltk.download('stopwords')\n",
    "from nltk import word_tokenize\n",
    "from collections import defaultdict\n",
    "from nltk import FreqDist\n",
    "from nltk.corpus import stopwords\n",
    "from sklearn.feature_extraction.text import TfidfVectorizer\n",
    "from sklearn.feature_extraction.text import CountVectorizer\n",
    "from sklearn.naive_bayes import MultinomialNB\n",
    "from sklearn import metrics\n",
    "import pickle"
   ]
  },
  {
   "cell_type": "code",
   "execution_count": 4,
   "metadata": {},
   "outputs": [],
   "source": [
    "stop_words = set(stopwords.words('english'))\n",
    "stop_words.add('said')\n",
    "stop_words.add('mr')"
   ]
  },
  {
   "cell_type": "code",
   "execution_count": 5,
   "metadata": {},
   "outputs": [],
   "source": [
    "BASE_DIR = 'D:\\\\MYLEARNING\\\\THE_JOURNEY_IV\\\\COMPUTER_SCIENCE_PROJECT_2\\\\PRACTICE\\\\bbc'\n",
    "LABELS = ['business', 'entertainment', 'politics', 'sport', 'tech']"
   ]
  },
  {
   "cell_type": "code",
   "execution_count": 33,
   "metadata": {},
   "outputs": [],
   "source": [
    "def create_data_set():\n",
    "    with open('data.txt', 'w', encoding='utf8') as outfile:\n",
    "        for label in LABELS:\n",
    "            dir = '%s/%s' % (BASE_DIR, label)\n",
    "            for filename in os.listdir(dir):\n",
    "                fullfilename = '%s/%s' % (dir, filename)\n",
    "                print(fullfilename)\n",
    "                with open(fullfilename, 'rb') as file:\n",
    "                    text = file.read().decode(errors= 'replace').replace('\\n', '')\n",
    "                    outfile.write('%s\\t%s\\t%s\\n' % (label, filename, text))"
   ]
  },
  {
   "cell_type": "code",
   "execution_count": 6,
   "metadata": {},
   "outputs": [],
   "source": [
    "def setup_docs():\n",
    "    docs = [] # (label, text)\n",
    "    with open('data.txt', 'r', encoding='utf8') as datafile:\n",
    "        for row in datafile:\n",
    "            parts = row.split('\\t')\n",
    "            doc = ( parts[0], parts[2].strip() )\n",
    "            docs.append(doc)\n",
    "        return docs"
   ]
  },
  {
   "cell_type": "code",
   "execution_count": 7,
   "metadata": {},
   "outputs": [],
   "source": [
    "def clean_text(text):\n",
    "    # remove punctuation\n",
    "    text = text.translate(str.maketrans('', '', string.punctuation))\n",
    "    # convert to lower case\n",
    "    text = text.lower()\n",
    "    return text"
   ]
  },
  {
   "cell_type": "code",
   "execution_count": 8,
   "metadata": {},
   "outputs": [],
   "source": [
    "def get_tokens(text):\n",
    "    #get individual words\n",
    "    tokens = word_tokenize(text)\n",
    "    # remove common words that are useless\n",
    "    tokens = [t for t in tokens if not t in stop_words]\n",
    "    return tokens"
   ]
  },
  {
   "cell_type": "code",
   "execution_count": 9,
   "metadata": {},
   "outputs": [],
   "source": [
    "def print_frequency_dist(docs):\n",
    "    tokens = defaultdict(list)\n",
    "    # tạo một danh sách khổng lồ gồm tất cả các từ cho mỗi danh mục\n",
    "    for doc in docs:\n",
    "        doc_label = doc[0]\n",
    "        #doc_text = doc[1] sau khi đã tìn ra các từ xuất hiện nhiều nhất, đến bước clean text #1\n",
    "        doc_text = clean_text(doc[1]) # clean text, xóa bỏ các dấu câu #2\n",
    "        #doc_tokens = word_tokenize(doc_text) #3\n",
    "        doc_tokens =get_tokens(doc_text) #4\n",
    "        tokens[doc_label].extend(doc_tokens)\n",
    "\n",
    "    for category_label, category_tokens in tokens.items():\n",
    "        print(category_label)\n",
    "        fd = FreqDist(category_tokens)\n",
    "        print(fd.most_common(20))"
   ]
  },
  {
   "cell_type": "code",
   "execution_count": 10,
   "metadata": {},
   "outputs": [],
   "source": [
    "def get_splits(docs):\n",
    "    # scramb docs\n",
    "    random.shuffle(docs)\n",
    "    X_train = []# training documents\n",
    "    y_train = []# corresponding training labels\n",
    "    X_test = []# test documents\n",
    "    y_test = []# corresponding test labels\n",
    "    pivot = int(.80 * len(docs))\n",
    "    for i in range(0, pivot):\n",
    "        X_train.append(docs[i][1])\n",
    "        y_train.append(docs[i][0])\n",
    "    for i in range(pivot, len(docs)):\n",
    "        X_test.append(docs[i][1])\n",
    "        y_test.append(docs[i][0])\n",
    "    return X_train, X_test, y_train, y_test"
   ]
  },
  {
   "cell_type": "code",
   "execution_count": 11,
   "metadata": {},
   "outputs": [],
   "source": [
    "def evaluate_classifier(title, classifier, vectorizer, X_test, y_test):\n",
    "    X_test_tfidf = vectorizer.transform(X_test)\n",
    "    y_pred = classifier.predict(X_test_tfidf)\n",
    "\n",
    "    precision = metrics.precision_score(y_test, y_pred, average='macro')\n",
    "    recall = metrics.recall_score(y_test, y_pred, average='macro')\n",
    "    f1 = metrics.f1_score(y_test, y_pred, average='macro')\n",
    "\n",
    "    print(\"%s\\t%f\\t%f\\t%f\\n\" % (title, precision, recall, f1))"
   ]
  },
  {
   "cell_type": "code",
   "execution_count": 12,
   "metadata": {},
   "outputs": [],
   "source": [
    "def train_classifier(docs):\n",
    "    X_train, X_test, y_train, y_test = get_splits(docs)\n",
    "    # the object that turns text into vector\n",
    "    vectorizer = CountVectorizer(stop_words='english', ngram_range=(1, 3), min_df=3, analyzer='word')\n",
    "    # create doc-term matrix\n",
    "    dtm = vectorizer.fit_transform(X_train)\n",
    "    # train Naive Bayes classifier\n",
    "    naive_bayes_classifier = MultinomialNB().fit(dtm, y_train)\n",
    "    \n",
    "    evaluate_classifier(\"Naive Bayes\\tTRAIN\\t\", naive_bayes_classifier, vectorizer, X_train, y_train)\n",
    "    evaluate_classifier(\"Naive Bayes\\tTEST\\t\", naive_bayes_classifier, vectorizer, X_test, y_test)\n",
    "\n",
    "    # store the classifier \n",
    "    clf_filename = 'naive_bayes_classifier.pkl'\n",
    "    pickle.dump(naive_bayes_classifier, open(clf_filename, 'wb'))\n",
    "\n",
    "    # also store the vectorizer so we transform new data\n",
    "    vec_filename = 'count_vectorizer.pkl'\n",
    "    pickle.dump(vectorizer, open(vec_filename, 'wb'))"
   ]
  },
  {
   "cell_type": "code",
   "execution_count": 13,
   "metadata": {},
   "outputs": [],
   "source": [
    "def classify(text):\n",
    "    # load classifier\n",
    "    clf_filename = 'D:\\\\MYLEARNING\\\\THE_JOURNEY_IV\\\\COMPUTER_SCIENCE_PROJECT_2\\\\naive_bayes_classifier.pkl'\n",
    "    nb_clf = pickle.load(open(clf_filename, 'rb'))\n",
    "\n",
    "    # vectorize the new text\n",
    "    vec_filename = 'D:\\\\MYLEARNING\\\\THE_JOURNEY_IV\\\\COMPUTER_SCIENCE_PROJECT_2\\\\count_vectorizer.pkl'\n",
    "    vectorizer = pickle.load(open(vec_filename, 'rb'))\n",
    "\n",
    "    pred = nb_clf.predict(vectorizer.transform([text]))\n",
    "\n",
    "    print(pred[0])"
   ]
  },
  {
   "cell_type": "code",
   "execution_count": 14,
   "metadata": {},
   "outputs": [
    {
     "name": "stdout",
     "output_type": "stream",
     "text": [
      "business\n",
      "Done\n"
     ]
    }
   ],
   "source": [
    "if __name__ == '__main__':\n",
    "    #create_data_set()\n",
    "    #docs = setup_docs()\n",
    "    #print_frequency_dist(docs)\n",
    "    #train_classifier(docs)\n",
    "    new_doc = \"The company, a major global air parts supplier, was spun out of Boeing in 2005 as part of a cost-cutting drive. It continues to rely on Boeing for more than two-thirds of its business.\"\n",
    "    classify(new_doc)\n",
    "    print(\"Done\")"
   ]
  }
 ],
 "metadata": {
  "kernelspec": {
   "display_name": "Python 3",
   "language": "python",
   "name": "python3"
  },
  "language_info": {
   "codemirror_mode": {
    "name": "ipython",
    "version": 3
   },
   "file_extension": ".py",
   "mimetype": "text/x-python",
   "name": "python",
   "nbconvert_exporter": "python",
   "pygments_lexer": "ipython3",
   "version": "3.12.1"
  }
 },
 "nbformat": 4,
 "nbformat_minor": 2
}
